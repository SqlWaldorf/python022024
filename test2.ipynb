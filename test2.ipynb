{
 "cells": [
  {
   "cell_type": "code",
   "execution_count": 1,
   "metadata": {},
   "outputs": [
    {
     "data": {
      "text/plain": [
       "2"
      ]
     },
     "execution_count": 1,
     "metadata": {},
     "output_type": "execute_result"
    }
   ],
   "source": [
    "1+1"
   ]
  },
  {
   "cell_type": "code",
   "execution_count": 2,
   "metadata": {},
   "outputs": [
    {
     "data": {
      "text/plain": [
       "24"
      ]
     },
     "execution_count": 2,
     "metadata": {},
     "output_type": "execute_result"
    }
   ],
   "source": [
    "12+12"
   ]
  },
  {
   "cell_type": "markdown",
   "metadata": {},
   "source": [
    "# chapter 1\n",
    "hello there, **testing** this <a href = \"https://u2u.be\"> is a link </a>\n",
    "\n",
    "$$\\sum_{i=0}^{10}i^2$$"
   ]
  },
  {
   "cell_type": "markdown",
   "metadata": {},
   "source": []
  },
  {
   "cell_type": "code",
   "execution_count": 3,
   "metadata": {},
   "outputs": [
    {
     "name": "stdout",
     "output_type": "stream",
     "text": [
      "asttokens==2.4.1\n",
      "colorama==0.4.6\n",
      "comm==0.2.1\n",
      "debugpy==1.8.1\n",
      "decorator==5.1.1\n",
      "executing==2.0.1\n",
      "ipykernel==6.29.2\n",
      "ipython==8.21.0\n",
      "jedi==0.19.1\n",
      "jupyter_client==8.6.0\n",
      "jupyter_core==5.7.1\n",
      "matplotlib-inline==0.1.6\n",
      "nest-asyncio==1.6.0\n",
      "numpy==1.26.4\n",
      "packaging==23.2\n",
      "pandas==2.2.0\n",
      "parso==0.8.3\n",
      "platformdirs==4.2.0\n",
      "prompt-toolkit==3.0.43\n",
      "psutil==5.9.8\n",
      "pure-eval==0.2.2\n",
      "Pygments==2.17.2\n",
      "python-dateutil==2.8.2\n",
      "pytz==2024.1\n",
      "pywin32==306\n",
      "pyzmq==25.1.2\n",
      "six==1.16.0\n",
      "stack-data==0.6.3\n",
      "tornado==6.4\n",
      "traitlets==5.14.1\n",
      "tzdata==2024.1\n",
      "wcwidth==0.2.13\n"
     ]
    }
   ],
   "source": [
    "! pip freeze"
   ]
  },
  {
   "cell_type": "code",
   "execution_count": null,
   "metadata": {},
   "outputs": [
    {
     "data": {
      "text/plain": [
       "2"
      ]
     },
     "execution_count": 5,
     "metadata": {},
     "output_type": "execute_result"
    }
   ],
   "source": [
    "1+1"
   ]
  },
  {
   "cell_type": "code",
   "execution_count": 4,
   "metadata": {},
   "outputs": [
    {
     "name": "stdout",
     "output_type": "stream",
     "text": [
      " Volume in drive C is OS\n",
      " Volume Serial Number is F8FC-764A\n",
      "\n",
      " Directory of c:\\Users\\NicoJacobs\\Desktop\\python022024\n",
      "\n",
      "02/19/2024  12:06 PM    <DIR>          .\n",
      "02/19/2024  10:50 AM    <DIR>          ..\n",
      "02/19/2024  12:09 PM    <DIR>          .venv\n",
      "02/19/2024  10:51 AM    <DIR>          data\n",
      "02/19/2024  11:55 AM               141 test.py\n",
      "02/19/2024  12:05 PM                 0 test2.ipynb\n",
      "02/19/2024  12:06 PM                 0 test3.ksdfgsjd\n",
      "               3 File(s)            141 bytes\n",
      "               4 Dir(s)  596,655,849,472 bytes free\n"
     ]
    }
   ],
   "source": [
    "! dir"
   ]
  },
  {
   "cell_type": "code",
   "execution_count": 9,
   "metadata": {},
   "outputs": [
    {
     "name": "stdout",
     "output_type": "stream",
     "text": [
      "3\n"
     ]
    }
   ],
   "source": [
    "v1 = 1\n",
    "v2 =2\n"
   ]
  },
  {
   "cell_type": "code",
   "execution_count": 12,
   "metadata": {},
   "outputs": [
    {
     "name": "stdout",
     "output_type": "stream",
     "text": [
      "19\n"
     ]
    }
   ],
   "source": [
    "print (v1 + v2)"
   ]
  },
  {
   "cell_type": "code",
   "execution_count": 26,
   "metadata": {},
   "outputs": [],
   "source": [
    "v1 = '\"Hello world\" isn\\'t difficult'"
   ]
  },
  {
   "cell_type": "code",
   "execution_count": 28,
   "metadata": {},
   "outputs": [
    {
     "name": "stdout",
     "output_type": "stream",
     "text": [
      "\"Hello world\" isn't difficult\n"
     ]
    }
   ],
   "source": [
    "'''\n",
    "This code\n",
    "simply prints\n",
    "my text on the screen\n",
    "'''\n",
    "print(v1)"
   ]
  },
  {
   "cell_type": "code",
   "execution_count": 34,
   "metadata": {},
   "outputs": [
    {
     "name": "stdout",
     "output_type": "stream",
     "text": [
      "<class 'float'>\n",
      "3.14\n",
      "<class 'int'>\n",
      "False\n"
     ]
    }
   ],
   "source": [
    "v1 = 3.14\n",
    "v2 = 2\n",
    "v3 = v1 + v2\n",
    "print(type(v1))\n",
    "print(v1)\n",
    "print(type(v2))\n",
    "\n",
    "print(0.1 + 0.2 == 0.3)"
   ]
  },
  {
   "cell_type": "code",
   "execution_count": 35,
   "metadata": {},
   "outputs": [],
   "source": [
    "del(v2)"
   ]
  },
  {
   "cell_type": "code",
   "execution_count": 1,
   "metadata": {},
   "outputs": [
    {
     "data": {
      "text/plain": [
       "{'__name__': '__main__',\n",
       " '__doc__': 'Automatically created module for IPython interactive environment',\n",
       " '__package__': None,\n",
       " '__loader__': None,\n",
       " '__spec__': None,\n",
       " '__builtin__': <module 'builtins' (built-in)>,\n",
       " '__builtins__': <module 'builtins' (built-in)>,\n",
       " '_ih': ['', 'locals()'],\n",
       " '_oh': {},\n",
       " '_dh': [WindowsPath('c:/Users/NicoJacobs/Desktop/python022024'),\n",
       "  WindowsPath('c:/Users/NicoJacobs/Desktop/python022024')],\n",
       " 'In': ['', 'locals()'],\n",
       " 'Out': {},\n",
       " 'get_ipython': <bound method InteractiveShell.get_ipython of <ipykernel.zmqshell.ZMQInteractiveShell object at 0x000001DBE113F470>>,\n",
       " 'exit': <IPython.core.autocall.ZMQExitAutocall at 0x1dbe113fb90>,\n",
       " 'quit': <IPython.core.autocall.ZMQExitAutocall at 0x1dbe113fb90>,\n",
       " 'open': <function _io.open(file, mode='r', buffering=-1, encoding=None, errors=None, newline=None, closefd=True, opener=None)>,\n",
       " '_': '',\n",
       " '__': '',\n",
       " '___': '',\n",
       " '__vsc_ipynb_file__': 'c:\\\\Users\\\\NicoJacobs\\\\Desktop\\\\python022024\\\\test2.ipynb',\n",
       " '_i': '',\n",
       " '_ii': '',\n",
       " '_iii': '',\n",
       " '_i1': 'locals()'}"
      ]
     },
     "execution_count": 1,
     "metadata": {},
     "output_type": "execute_result"
    }
   ],
   "source": [
    "locals()"
   ]
  },
  {
   "cell_type": "code",
   "execution_count": 13,
   "metadata": {},
   "outputs": [
    {
     "name": "stdout",
     "output_type": "stream",
     "text": [
      "c\n"
     ]
    }
   ],
   "source": [
    "if (1 > 5):\n",
    "    print('a')\n",
    "    print('b')\n",
    "print('c')\n",
    "\n",
    "if(100>200):\n",
    "  print('weird')"
   ]
  },
  {
   "cell_type": "code",
   "execution_count": 16,
   "metadata": {},
   "outputs": [
    {
     "name": "stdout",
     "output_type": "stream",
     "text": [
      "False\n"
     ]
    }
   ],
   "source": [
    "v1 = \"12.45\"\n",
    "import math\n",
    "v2 = float(v1)\n"
   ]
  },
  {
   "cell_type": "code",
   "execution_count": 18,
   "metadata": {},
   "outputs": [
    {
     "name": "stdout",
     "output_type": "stream",
     "text": [
      "False\n"
     ]
    }
   ],
   "source": [
    "\n",
    "print(1 == 2)"
   ]
  },
  {
   "cell_type": "code",
   "execution_count": 20,
   "metadata": {},
   "outputs": [
    {
     "name": "stdout",
     "output_type": "stream",
     "text": [
      "i'm true\n"
     ]
    }
   ],
   "source": [
    "if(True):\n",
    "    print(\"i'm true\")"
   ]
  },
  {
   "cell_type": "code",
   "execution_count": 118,
   "metadata": {},
   "outputs": [],
   "source": [
    "def niceprint(text:str,indent:int):\n",
    "    '''the documentation\n",
    "    is this in there'''\n",
    "    pos=0\n",
    "    for c in text:\n",
    "        print(\" \"*pos*indent + c)\n",
    "        pos+=1"
   ]
  },
  {
   "cell_type": "code",
   "execution_count": 115,
   "metadata": {},
   "outputs": [
    {
     "name": "stdout",
     "output_type": "stream",
     "text": [
      "r\n",
      "   a\n",
      "      i\n",
      "         n\n",
      "            y\n",
      "               d\n",
      "                  a\n",
      "                     y\n"
     ]
    }
   ],
   "source": [
    "niceprint()"
   ]
  },
  {
   "cell_type": "code",
   "execution_count": 136,
   "metadata": {},
   "outputs": [],
   "source": [
    "def mydemofunction(firstnr: int,secondnr = 42) -> int:\n",
    "    '''This takes two integers and returns the sum.'''\n",
    "    return int(firstnr - secondnr)"
   ]
  },
  {
   "cell_type": "code",
   "execution_count": 137,
   "metadata": {},
   "outputs": [
    {
     "data": {
      "text/plain": [
       "40"
      ]
     },
     "execution_count": 137,
     "metadata": {},
     "output_type": "execute_result"
    }
   ],
   "source": [
    "mydemofunction(secondnr=1, firstnr=41)"
   ]
  },
  {
   "cell_type": "code",
   "execution_count": null,
   "metadata": {},
   "outputs": [
    {
     "name": "stdout",
     "output_type": "stream",
     "text": [
      " H\n",
      "  e\n",
      "   l\n",
      "    l\n",
      "     o\n",
      "       \n",
      "       w\n",
      "        o\n",
      "         r\n",
      "          l\n",
      "           d\n"
     ]
    }
   ],
   "source": [
    "\n",
    "for c in msg:\n",
    "    print(\" \"*pos + c)\n",
    "    pos+=1"
   ]
  },
  {
   "cell_type": "code",
   "execution_count": 30,
   "metadata": {},
   "outputs": [
    {
     "data": {
      "text/plain": [
       "False"
      ]
     },
     "execution_count": 30,
     "metadata": {},
     "output_type": "execute_result"
    }
   ],
   "source": [
    "msg.islower()"
   ]
  },
  {
   "cell_type": "code",
   "execution_count": 53,
   "metadata": {},
   "outputs": [],
   "source": [
    "neighbours = [\"France\", \"Luxembourg\", \"Germany\", \"Netherlands\"]\n",
    "neighbourstuple = (\"France\", \"Luxembourg\", \"Germany\", \"Netherlands\")"
   ]
  },
  {
   "cell_type": "code",
   "execution_count": 61,
   "metadata": {},
   "outputs": [],
   "source": [
    "neighbourset = {\"France\", \"Germany\"}"
   ]
  },
  {
   "cell_type": "code",
   "execution_count": 70,
   "metadata": {},
   "outputs": [],
   "source": [
    "neighbourset.add( \"France\")"
   ]
  },
  {
   "cell_type": "code",
   "execution_count": 71,
   "metadata": {},
   "outputs": [
    {
     "name": "stdout",
     "output_type": "stream",
     "text": [
      "Netherlands\n",
      "France\n",
      "Germany\n"
     ]
    }
   ],
   "source": [
    "for c in neighbourset:\n",
    "    print(c)"
   ]
  },
  {
   "cell_type": "code",
   "execution_count": 52,
   "metadata": {},
   "outputs": [
    {
     "name": "stdout",
     "output_type": "stream",
     "text": [
      "[1, 2, 4, 2, 1]\n"
     ]
    },
    {
     "data": {
      "text/plain": [
       "5"
      ]
     },
     "execution_count": 52,
     "metadata": {},
     "output_type": "execute_result"
    }
   ],
   "source": [
    "l1 = [1,2,4,2,1]\n",
    "print(l1)\n",
    "len(l1)"
   ]
  },
  {
   "cell_type": "code",
   "execution_count": 54,
   "metadata": {},
   "outputs": [
    {
     "name": "stdout",
     "output_type": "stream",
     "text": [
      "France\n",
      "Luxembourg\n",
      "Germany\n",
      "Netherlands\n"
     ]
    }
   ],
   "source": [
    "for country in neighbourstuple:\n",
    "    print(country)"
   ]
  },
  {
   "cell_type": "code",
   "execution_count": 56,
   "metadata": {},
   "outputs": [
    {
     "data": {
      "text/plain": [
       "'Germany'"
      ]
     },
     "execution_count": 56,
     "metadata": {},
     "output_type": "execute_result"
    }
   ],
   "source": [
    "neighbourstuple[-2]"
   ]
  },
  {
   "cell_type": "code",
   "execution_count": 41,
   "metadata": {},
   "outputs": [
    {
     "name": "stdout",
     "output_type": "stream",
     "text": [
      "cheap wine\n"
     ]
    }
   ],
   "source": [
    "if(\"France\" in neighbours):\n",
    "    print(\"cheap wine\")"
   ]
  },
  {
   "cell_type": "code",
   "execution_count": 42,
   "metadata": {},
   "outputs": [
    {
     "name": "stdout",
     "output_type": "stream",
     "text": [
      "a\n",
      "b\n",
      "c\n"
     ]
    }
   ],
   "source": [
    "email = \"a,b,c\"\n",
    "for e in email.split(','):\n",
    "    print(e)"
   ]
  },
  {
   "cell_type": "code",
   "execution_count": 72,
   "metadata": {},
   "outputs": [],
   "source": [
    "info = { \n",
    "\"Belgium\" : \"Brussels\",\n",
    "\"France\" : \"Paris\",\n",
    "\"Germany\" : \"Dummy\",\n",
    "\"Germany\" : \"Berlin\"\n",
    "}\n"
   ]
  },
  {
   "cell_type": "code",
   "execution_count": 78,
   "metadata": {},
   "outputs": [],
   "source": [
    "info[\"Netherlands\"] = \"Amsterdam\""
   ]
  },
  {
   "cell_type": "code",
   "execution_count": 85,
   "metadata": {},
   "outputs": [
    {
     "name": "stdout",
     "output_type": "stream",
     "text": [
      "The capital of Belgium is Leuven.\n",
      "The capital of France is Paris.\n",
      "The capital of Germany is Berlin.\n",
      "The capital of Netherlands is Amsterdam.\n"
     ]
    }
   ],
   "source": [
    "for it in info:\n",
    "    print(f\"The capital of {it} is {info[it]}.\")"
   ]
  },
  {
   "cell_type": "code",
   "execution_count": 84,
   "metadata": {},
   "outputs": [
    {
     "name": "stdout",
     "output_type": "stream",
     "text": [
      "The capital of Belgium is Leuven.\n",
      "The capital of France is Paris.\n",
      "The capital of Germany is Berlin.\n",
      "The capital of Netherlands is Amsterdam.\n"
     ]
    }
   ],
   "source": [
    "for country, city in info.items():\n",
    "    print(f\"The capital of {country} is {city}.\")"
   ]
  },
  {
   "cell_type": "code",
   "execution_count": 86,
   "metadata": {},
   "outputs": [
    {
     "data": {
      "text/plain": [
       "NoneType"
      ]
     },
     "execution_count": 86,
     "metadata": {},
     "output_type": "execute_result"
    }
   ],
   "source": [
    "result = None\n",
    "type(result)"
   ]
  },
  {
   "cell_type": "code",
   "execution_count": 91,
   "metadata": {},
   "outputs": [
    {
     "name": "stdout",
     "output_type": "stream",
     "text": [
      "42\n",
      "47\n",
      "52\n",
      "57\n",
      "62\n",
      "67\n",
      "72\n",
      "77\n",
      "82\n",
      "87\n",
      "92\n",
      "97\n"
     ]
    }
   ],
   "source": [
    "for i in range(42,100,5):\n",
    "    print(i)"
   ]
  },
  {
   "cell_type": "code",
   "execution_count": 95,
   "metadata": {},
   "outputs": [
    {
     "name": "stdout",
     "output_type": "stream",
     "text": [
      "1\n",
      "low value\n",
      "2\n",
      "low value\n",
      "3\n",
      "low value\n",
      "4\n",
      "low value\n",
      "5\n",
      "high\n",
      "6\n",
      "high\n",
      "7\n",
      "very high\n",
      "8\n",
      "very high\n",
      "9\n",
      "very high\n"
     ]
    }
   ],
   "source": [
    "start = 1\n",
    "while start < 10:\n",
    "    print(start)\n",
    "    if start < 5:\n",
    "        print(\"low value\")\n",
    "    elif start < 7:\n",
    "        print(\"high\")\n",
    "    else:\n",
    "        print(\"very high\")\n",
    "    start += 1"
   ]
  },
  {
   "cell_type": "code",
   "execution_count": 96,
   "metadata": {},
   "outputs": [
    {
     "name": "stdout",
     "output_type": "stream",
     "text": [
      "[1, 4, 9, 16, 25, 36, 49, 64, 81]\n"
     ]
    }
   ],
   "source": [
    "result = []\n",
    "for i in range(1,10):\n",
    "    result.append(i**2)\n",
    "print(result)"
   ]
  },
  {
   "cell_type": "code",
   "execution_count": 99,
   "metadata": {},
   "outputs": [
    {
     "data": {
      "text/plain": [
       "[(1, 3),\n",
       " (1, 5),\n",
       " (1, 7),\n",
       " (1, 9),\n",
       " (4, 3),\n",
       " (4, 5),\n",
       " (4, 7),\n",
       " (4, 9),\n",
       " (9, 5),\n",
       " (9, 7),\n",
       " (9, 9),\n",
       " (16, 5),\n",
       " (16, 7),\n",
       " (16, 9),\n",
       " (25, 7),\n",
       " (25, 9),\n",
       " (36, 7),\n",
       " (36, 9),\n",
       " (49, 9),\n",
       " (64, 9)]"
      ]
     },
     "execution_count": 99,
     "metadata": {},
     "output_type": "execute_result"
    }
   ],
   "source": [
    "[(i**2,j) for i in range(1,10) for j in range(1,11,2) if i < j]"
   ]
  },
  {
   "cell_type": "code",
   "execution_count": null,
   "metadata": {},
   "outputs": [],
   "source": [
    "def sumthemallup(**args):\n",
    "    for i,v in args.items:\n",
    "        print(i,v)"
   ]
  },
  {
   "cell_type": "code",
   "execution_count": 146,
   "metadata": {},
   "outputs": [
    {
     "ename": "TypeError",
     "evalue": "'builtin_function_or_method' object is not iterable",
     "output_type": "error",
     "traceback": [
      "\u001b[1;31m---------------------------------------------------------------------------\u001b[0m",
      "\u001b[1;31mTypeError\u001b[0m                                 Traceback (most recent call last)",
      "Cell \u001b[1;32mIn[146], line 1\u001b[0m\n\u001b[1;32m----> 1\u001b[0m \u001b[43msumthemallup\u001b[49m\u001b[43m(\u001b[49m\u001b[43mheight\u001b[49m\u001b[38;5;241;43m=\u001b[39;49m\u001b[38;5;241;43m10\u001b[39;49m\u001b[43m,\u001b[49m\u001b[43mwidth\u001b[49m\u001b[38;5;241;43m=\u001b[39;49m\u001b[38;5;241;43m20\u001b[39;49m\u001b[43m)\u001b[49m\n",
      "Cell \u001b[1;32mIn[145], line 2\u001b[0m, in \u001b[0;36msumthemallup\u001b[1;34m(**args)\u001b[0m\n\u001b[0;32m      1\u001b[0m \u001b[38;5;28;01mdef\u001b[39;00m \u001b[38;5;21msumthemallup\u001b[39m(\u001b[38;5;241m*\u001b[39m\u001b[38;5;241m*\u001b[39margs:\u001b[38;5;28mint\u001b[39m):\n\u001b[1;32m----> 2\u001b[0m \u001b[43m    \u001b[49m\u001b[38;5;28;43;01mfor\u001b[39;49;00m\u001b[43m \u001b[49m\u001b[43mi\u001b[49m\u001b[43m,\u001b[49m\u001b[43mv\u001b[49m\u001b[43m \u001b[49m\u001b[38;5;129;43;01min\u001b[39;49;00m\u001b[43m \u001b[49m\u001b[43margs\u001b[49m\u001b[38;5;241;43m.\u001b[39;49m\u001b[43mitems\u001b[49m\u001b[43m:\u001b[49m\n\u001b[0;32m      3\u001b[0m \u001b[43m        \u001b[49m\u001b[38;5;28;43mprint\u001b[39;49m\u001b[43m(\u001b[49m\u001b[43mi\u001b[49m\u001b[43m,\u001b[49m\u001b[43mv\u001b[49m\u001b[43m)\u001b[49m\n",
      "\u001b[1;31mTypeError\u001b[0m: 'builtin_function_or_method' object is not iterable"
     ]
    }
   ],
   "source": [
    "sumthemallup(height=10,width=20)"
   ]
  },
  {
   "cell_type": "code",
   "execution_count": 105,
   "metadata": {},
   "outputs": [
    {
     "name": "stdout",
     "output_type": "stream",
     "text": [
      "true\n"
     ]
    }
   ],
   "source": [
    "if 14 % 3:\n",
    "    print(\"true\")"
   ]
  },
  {
   "cell_type": "code",
   "execution_count": 3,
   "metadata": {},
   "outputs": [
    {
     "name": "stdout",
     "output_type": "stream",
     "text": [
      "hello world\n"
     ]
    }
   ],
   "source": [
    "print(\"hello world\")"
   ]
  }
 ],
 "metadata": {
  "kernelspec": {
   "display_name": ".venv",
   "language": "python",
   "name": "python3"
  },
  "language_info": {
   "codemirror_mode": {
    "name": "ipython",
    "version": 3
   },
   "file_extension": ".py",
   "mimetype": "text/x-python",
   "name": "python",
   "nbconvert_exporter": "python",
   "pygments_lexer": "ipython3",
   "version": "3.12.2"
  }
 },
 "nbformat": 4,
 "nbformat_minor": 2
}
